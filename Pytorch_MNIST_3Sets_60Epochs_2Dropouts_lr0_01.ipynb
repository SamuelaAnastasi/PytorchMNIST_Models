{
  "nbformat": 4,
  "nbformat_minor": 0,
  "metadata": {
    "colab": {
      "name": "Pytorch_MNIST_3Sets_60Epochs_2Dropouts_lr0_01.ipynb",
      "version": "0.3.2",
      "provenance": []
    },
    "kernelspec": {
      "name": "python3",
      "display_name": "Python 3"
    }
  },
  "cells": [
    {
      "cell_type": "code",
      "metadata": {
        "id": "gJGXBvy4ZkYU",
        "colab_type": "code",
        "colab": {}
      },
      "source": [
        "# import libraries\n",
        "import torch as th\n",
        "import numpy as np\n",
        "from torch.utils.data.sampler import SubsetRandomSampler"
      ],
      "execution_count": 0,
      "outputs": []
    },
    {
      "cell_type": "markdown",
      "metadata": {
        "id": "JrnA8gH9cU0z",
        "colab_type": "text"
      },
      "source": [
        "#Load and Visualize the Data"
      ]
    },
    {
      "cell_type": "code",
      "metadata": {
        "id": "RPJjF1CdcFXg",
        "colab_type": "code",
        "colab": {
          "base_uri": "https://localhost:8080/",
          "height": 252
        },
        "outputId": "f13d08bb-c309-4b22-81c7-39bb5f6264be"
      },
      "source": [
        "from torchvision import datasets\n",
        "import torchvision.transforms as transforms\n",
        "\n",
        "# number of subprocesses to use for data loading\n",
        "num_workers = 0\n",
        "\n",
        "# how many samples for batch to load - Q: Try with different batch size to see effects\n",
        "batch_size = 20\n",
        "\n",
        "# percentage of training set to use as validation\n",
        "valid_size = 0.2\n",
        "\n",
        "# convert data to Torch.FloatTensor\n",
        "transform = transforms.Compose([transforms.ToTensor(),\n",
        "                                transforms.Normalize((0.5,), (0.5,)),\n",
        "                              ])\n",
        "\n",
        "# define train and test datasets - define the root as 'data'\n",
        "train_set = datasets.MNIST(root='data', train=True,  download=True, transform=transform)\n",
        "test_set = datasets.MNIST(root='data', train=False, download=True, transform=transform)\n",
        "\n",
        "# obtain training indices that will be used for validation\n",
        "num_train = len(train_set)\n",
        "indices = list(range(num_train))\n",
        "np.random.shuffle(indices)\n",
        "split = int(np.floor(valid_size * num_train))\n",
        "train_idx, valid_idx = indices[split:], indices[:split]\n",
        "\n",
        "# define samplers for obtaining training and validation batches\n",
        "train_sampler = SubsetRandomSampler(train_idx)\n",
        "valid_sampler = SubsetRandomSampler(valid_idx)\n",
        "\n",
        "# define loaders that load the data\n",
        "train_loader = th.utils.data.DataLoader(train_set, batch_size=batch_size, sampler=valid_sampler, num_workers=num_workers)\n",
        "valid_loader = th.utils.data.DataLoader(train_set, batch_size=batch_size, sampler=valid_sampler, num_workers=num_workers)\n",
        "test_loader = th.utils.data.DataLoader(test_set, batch_size=batch_size, num_workers=num_workers, shuffle=True)"
      ],
      "execution_count": 4,
      "outputs": [
        {
          "output_type": "stream",
          "text": [
            "\r0it [00:00, ?it/s]"
          ],
          "name": "stderr"
        },
        {
          "output_type": "stream",
          "text": [
            "Downloading http://yann.lecun.com/exdb/mnist/train-images-idx3-ubyte.gz to data/MNIST/raw/train-images-idx3-ubyte.gz\n"
          ],
          "name": "stdout"
        },
        {
          "output_type": "stream",
          "text": [
            "9920512it [00:01, 9267288.43it/s]                            \n"
          ],
          "name": "stderr"
        },
        {
          "output_type": "stream",
          "text": [
            "Extracting data/MNIST/raw/train-images-idx3-ubyte.gz\n"
          ],
          "name": "stdout"
        },
        {
          "output_type": "stream",
          "text": [
            "  0%|          | 0/28881 [00:00<?, ?it/s]"
          ],
          "name": "stderr"
        },
        {
          "output_type": "stream",
          "text": [
            "Downloading http://yann.lecun.com/exdb/mnist/train-labels-idx1-ubyte.gz to data/MNIST/raw/train-labels-idx1-ubyte.gz\n"
          ],
          "name": "stdout"
        },
        {
          "output_type": "stream",
          "text": [
            "32768it [00:00, 137709.83it/s]           \n",
            "  0%|          | 0/1648877 [00:00<?, ?it/s]"
          ],
          "name": "stderr"
        },
        {
          "output_type": "stream",
          "text": [
            "Extracting data/MNIST/raw/train-labels-idx1-ubyte.gz\n",
            "Downloading http://yann.lecun.com/exdb/mnist/t10k-images-idx3-ubyte.gz to data/MNIST/raw/t10k-images-idx3-ubyte.gz\n"
          ],
          "name": "stdout"
        },
        {
          "output_type": "stream",
          "text": [
            "1654784it [00:00, 2245654.61it/s]                            \n",
            "0it [00:00, ?it/s]"
          ],
          "name": "stderr"
        },
        {
          "output_type": "stream",
          "text": [
            "Extracting data/MNIST/raw/t10k-images-idx3-ubyte.gz\n",
            "Downloading http://yann.lecun.com/exdb/mnist/t10k-labels-idx1-ubyte.gz to data/MNIST/raw/t10k-labels-idx1-ubyte.gz\n"
          ],
          "name": "stdout"
        },
        {
          "output_type": "stream",
          "text": [
            "8192it [00:00, 49616.16it/s]            \n"
          ],
          "name": "stderr"
        },
        {
          "output_type": "stream",
          "text": [
            "Extracting data/MNIST/raw/t10k-labels-idx1-ubyte.gz\n",
            "Processing...\n",
            "Done!\n"
          ],
          "name": "stdout"
        }
      ]
    },
    {
      "cell_type": "code",
      "metadata": {
        "id": "5vKjZQMcskzN",
        "colab_type": "code",
        "outputId": "1973e3fc-8d7a-479f-a2cd-7f5a40676f7e",
        "colab": {
          "base_uri": "https://localhost:8080/",
          "height": 288
        }
      },
      "source": [
        "# visualise the loaded data\n",
        "import matplotlib.pyplot as plot\n",
        "\n",
        "# get one batch of train images\n",
        "dataiter = iter(train_loader)\n",
        "images, labels = dataiter.next()\n",
        "images = images.numpy()\n",
        "\n",
        "# plot images and labels in the batch \n",
        "fig = plot.figure(figsize=(25, 4))\n",
        "\n",
        "for indx in np.arange(20):\n",
        "  ax = fig.add_subplot(2, 20/2, indx+1, xticks=[], yticks=[])\n",
        "  ax.imshow(np.squeeze(images[indx]), cmap='gray') \n",
        "  ax.set_title(str(labels[indx].item()), color='white')\n",
        "  "
      ],
      "execution_count": 5,
      "outputs": [
        {
          "output_type": "display_data",
          "data": {
            "image/png": "[encoded data removed]",
            "text/plain": [
              "<Figure size 1800x288 with 20 Axes>"
            ]
          },
          "metadata": {
            "tags": []
          }
        }
      ]
    },
    {
      "cell_type": "markdown",
      "metadata": {
        "id": "ahN7hXXgcZZI",
        "colab_type": "text"
      },
      "source": [
        "#Define the Network  Architecture"
      ]
    },
    {
      "cell_type": "code",
      "metadata": {
        "id": "YTzYpCO_43aR",
        "colab_type": "code",
        "outputId": "d44a482c-f04c-412a-8fa8-b1fb75c0f1d1",
        "colab": {
          "base_uri": "https://localhost:8080/",
          "height": 118
        }
      },
      "source": [
        "from torch import nn\n",
        "import torch.nn.functional as F\n",
        "\n",
        "# define model network clas\n",
        "class Network(nn.Module):\n",
        "  \n",
        "  # include all layers on __init__()\n",
        "  def __init__(self):\n",
        "    # call super __init_()\n",
        "    super(Network, self).__init__()\n",
        "    \n",
        "    # 3 fully connected Layer hidden and output\n",
        "    self.fc1 = nn.Linear(28*28, 512)\n",
        "    self.fc2 = nn.Linear(512, 128)\n",
        "    self.fc3 = nn.Linear(128, 10)\n",
        "    \n",
        "    # dropout to prevent overfitting \n",
        "    self.dropout = nn.Dropout(0.2)\n",
        "    \n",
        "    # define forward behavior of network - that is how the input x \n",
        "    #is going to be passed to layers and transformed\n",
        "    \n",
        "  def forward(self, x):\n",
        "    # flatten input\n",
        "#       x = x.view(-1, 28 * 28)\n",
        "      \n",
        "      # pass input to the layers\n",
        "      x = F.relu(self.fc1(x))\n",
        "      x = self.dropout(x)\n",
        "      x = F.relu(self.fc2(x))\n",
        "      x = self.dropout(x)\n",
        "      x = self.fc3(x)\n",
        "      x = F.log_softmax(x, dim=1)\n",
        "      \n",
        "      return x      \n",
        "      \n",
        "model = Network()\n",
        "print(model)"
      ],
      "execution_count": 6,
      "outputs": [
        {
          "output_type": "stream",
          "text": [
            "Network(\n",
            "  (fc1): Linear(in_features=784, out_features=512, bias=True)\n",
            "  (fc2): Linear(in_features=512, out_features=128, bias=True)\n",
            "  (fc3): Linear(in_features=128, out_features=10, bias=True)\n",
            "  (dropout): Dropout(p=0.2)\n",
            ")\n"
          ],
          "name": "stdout"
        }
      ]
    },
    {
      "cell_type": "code",
      "metadata": {
        "id": "-oCETSyqLnfq",
        "colab_type": "code",
        "outputId": "7a732ee5-987a-4e33-eae2-b1943ebb3bca",
        "colab": {
          "base_uri": "https://localhost:8080/",
          "height": 1000
        }
      },
      "source": [
        "print(model.fc1.weight)\n",
        "print(model.fc1.bias)"
      ],
      "execution_count": 7,
      "outputs": [
        {
          "output_type": "stream",
          "text": [
            "Parameter containing:\n",
            "tensor([[-0.0110, -0.0340, -0.0066,  ..., -0.0229,  0.0295, -0.0178],\n",
            "        [ 0.0118, -0.0288, -0.0227,  ..., -0.0233,  0.0236, -0.0260],\n",
            "        [ 0.0120, -0.0283, -0.0127,  ...,  0.0351,  0.0342,  0.0339],\n",
            "        ...,\n",
            "        [-0.0248,  0.0175,  0.0310,  ...,  0.0278, -0.0346,  0.0073],\n",
            "        [ 0.0209, -0.0330,  0.0062,  ..., -0.0020,  0.0012,  0.0218],\n",
            "        [ 0.0357,  0.0269,  0.0275,  ..., -0.0269,  0.0161,  0.0250]],\n",
            "       requires_grad=True)\n",
            "Parameter containing:\n",
            "tensor([-0.0017, -0.0070,  0.0347, -0.0240,  0.0259,  0.0261,  0.0291, -0.0274,\n",
            "         0.0061,  0.0061, -0.0275, -0.0139, -0.0200,  0.0287, -0.0123, -0.0050,\n",
            "        -0.0300,  0.0290,  0.0140, -0.0143, -0.0079, -0.0054, -0.0267,  0.0059,\n",
            "        -0.0308, -0.0320,  0.0329,  0.0332, -0.0292,  0.0150,  0.0074,  0.0294,\n",
            "         0.0323, -0.0237,  0.0122,  0.0041,  0.0009, -0.0164, -0.0251,  0.0157,\n",
            "        -0.0092,  0.0249,  0.0265,  0.0013, -0.0173,  0.0129, -0.0130,  0.0325,\n",
            "        -0.0062, -0.0323, -0.0193,  0.0010,  0.0314, -0.0017,  0.0082, -0.0058,\n",
            "         0.0233, -0.0356,  0.0277, -0.0259, -0.0248,  0.0212, -0.0067,  0.0130,\n",
            "        -0.0297,  0.0145, -0.0098, -0.0194, -0.0273,  0.0043,  0.0157, -0.0349,\n",
            "         0.0080,  0.0251, -0.0278, -0.0274, -0.0231, -0.0277, -0.0048,  0.0184,\n",
            "        -0.0016,  0.0167,  0.0129, -0.0279,  0.0196,  0.0337,  0.0006,  0.0342,\n",
            "        -0.0180, -0.0092,  0.0125,  0.0073, -0.0033, -0.0235, -0.0104, -0.0010,\n",
            "        -0.0304,  0.0004, -0.0332,  0.0334, -0.0070,  0.0111, -0.0347, -0.0355,\n",
            "         0.0157, -0.0319, -0.0340, -0.0194, -0.0165,  0.0335,  0.0095,  0.0308,\n",
            "         0.0340,  0.0266, -0.0237, -0.0025,  0.0252, -0.0131,  0.0035, -0.0106,\n",
            "        -0.0221, -0.0344,  0.0126,  0.0219,  0.0340,  0.0103,  0.0011, -0.0058,\n",
            "        -0.0091, -0.0144, -0.0272, -0.0043,  0.0197, -0.0142, -0.0350,  0.0331,\n",
            "        -0.0170,  0.0065, -0.0052, -0.0274,  0.0273, -0.0128, -0.0192,  0.0164,\n",
            "         0.0252, -0.0338, -0.0179,  0.0140,  0.0332,  0.0260,  0.0195, -0.0224,\n",
            "        -0.0059,  0.0309, -0.0211, -0.0285,  0.0231,  0.0064, -0.0174, -0.0332,\n",
            "        -0.0053, -0.0242, -0.0230,  0.0243,  0.0287,  0.0130, -0.0178, -0.0100,\n",
            "        -0.0310, -0.0267,  0.0114, -0.0210,  0.0291, -0.0062, -0.0259,  0.0110,\n",
            "         0.0127, -0.0251,  0.0023, -0.0079,  0.0088, -0.0351,  0.0028,  0.0322,\n",
            "        -0.0189,  0.0141,  0.0317,  0.0065, -0.0015,  0.0115, -0.0271, -0.0277,\n",
            "        -0.0012, -0.0042, -0.0104,  0.0289,  0.0151, -0.0141,  0.0347,  0.0180,\n",
            "        -0.0328,  0.0311,  0.0212, -0.0035, -0.0259, -0.0329, -0.0054,  0.0311,\n",
            "         0.0106,  0.0200, -0.0085,  0.0288,  0.0257,  0.0069,  0.0127, -0.0215,\n",
            "         0.0034, -0.0204,  0.0170,  0.0159,  0.0136,  0.0312,  0.0333,  0.0338,\n",
            "         0.0060, -0.0175, -0.0214, -0.0192,  0.0311,  0.0014,  0.0270,  0.0246,\n",
            "        -0.0315, -0.0304, -0.0323, -0.0035,  0.0007,  0.0197, -0.0041,  0.0050,\n",
            "        -0.0207, -0.0028, -0.0038,  0.0048, -0.0066, -0.0154,  0.0165,  0.0182,\n",
            "         0.0164,  0.0084, -0.0165, -0.0221, -0.0044, -0.0347, -0.0280,  0.0215,\n",
            "         0.0115, -0.0254, -0.0245, -0.0009,  0.0292, -0.0116, -0.0080,  0.0064,\n",
            "        -0.0351, -0.0336,  0.0126, -0.0102, -0.0292, -0.0298, -0.0148, -0.0355,\n",
            "         0.0043, -0.0320, -0.0298,  0.0120,  0.0228,  0.0114,  0.0333,  0.0085,\n",
            "        -0.0007, -0.0236,  0.0189, -0.0024, -0.0013, -0.0356, -0.0234,  0.0079,\n",
            "        -0.0214,  0.0157, -0.0040,  0.0076,  0.0273,  0.0294,  0.0238,  0.0217,\n",
            "        -0.0123,  0.0160, -0.0063,  0.0298,  0.0205, -0.0181,  0.0012, -0.0110,\n",
            "         0.0327, -0.0126, -0.0228,  0.0085,  0.0090, -0.0274,  0.0238, -0.0269,\n",
            "        -0.0296,  0.0109, -0.0134, -0.0239,  0.0060, -0.0026, -0.0322, -0.0083,\n",
            "         0.0271, -0.0261,  0.0289, -0.0236,  0.0255,  0.0265,  0.0047, -0.0051,\n",
            "         0.0326,  0.0114,  0.0253,  0.0006,  0.0210, -0.0330,  0.0049,  0.0314,\n",
            "         0.0293,  0.0009,  0.0263,  0.0147,  0.0009, -0.0054,  0.0049, -0.0297,\n",
            "        -0.0211, -0.0013,  0.0236, -0.0321,  0.0343,  0.0230,  0.0043, -0.0206,\n",
            "         0.0059, -0.0088,  0.0163, -0.0127,  0.0057,  0.0272, -0.0155, -0.0247,\n",
            "        -0.0183, -0.0232, -0.0240,  0.0232,  0.0225,  0.0315,  0.0324, -0.0096,\n",
            "         0.0236, -0.0268,  0.0183, -0.0239, -0.0040, -0.0083,  0.0321,  0.0182,\n",
            "         0.0288,  0.0329,  0.0275, -0.0181,  0.0155, -0.0125,  0.0303, -0.0277,\n",
            "         0.0172, -0.0040, -0.0077,  0.0057,  0.0178, -0.0093, -0.0153, -0.0303,\n",
            "         0.0298,  0.0119,  0.0011,  0.0092, -0.0341, -0.0315, -0.0337, -0.0144,\n",
            "         0.0031, -0.0346,  0.0314, -0.0083,  0.0283, -0.0267,  0.0353,  0.0329,\n",
            "         0.0148, -0.0171,  0.0322, -0.0099, -0.0245,  0.0138, -0.0013, -0.0157,\n",
            "        -0.0044,  0.0126,  0.0225, -0.0051,  0.0180, -0.0295, -0.0319,  0.0256,\n",
            "         0.0037, -0.0176, -0.0160,  0.0202, -0.0336, -0.0068,  0.0325,  0.0337,\n",
            "         0.0144,  0.0090,  0.0243,  0.0185,  0.0026,  0.0335,  0.0079,  0.0156,\n",
            "         0.0144,  0.0176, -0.0121,  0.0301,  0.0036, -0.0118, -0.0163, -0.0069,\n",
            "        -0.0217,  0.0063, -0.0188, -0.0013, -0.0306,  0.0316,  0.0203,  0.0174,\n",
            "        -0.0214,  0.0313, -0.0132,  0.0333,  0.0232,  0.0160, -0.0272, -0.0288,\n",
            "         0.0110,  0.0217, -0.0357,  0.0328, -0.0133,  0.0301,  0.0132,  0.0252,\n",
            "        -0.0139,  0.0009, -0.0278, -0.0189, -0.0116, -0.0194,  0.0061, -0.0263,\n",
            "        -0.0336,  0.0035,  0.0061, -0.0155,  0.0264,  0.0027,  0.0314, -0.0069,\n",
            "         0.0211, -0.0227,  0.0140,  0.0197,  0.0255, -0.0174,  0.0002, -0.0303,\n",
            "        -0.0067, -0.0317, -0.0059, -0.0184,  0.0285,  0.0196,  0.0236,  0.0296,\n",
            "         0.0173,  0.0024,  0.0189, -0.0034,  0.0159,  0.0032, -0.0230, -0.0072],\n",
            "       requires_grad=True)\n"
          ],
          "name": "stdout"
        }
      ]
    },
    {
      "cell_type": "code",
      "metadata": {
        "id": "gRqJPM97V8Tm",
        "colab_type": "code",
        "colab": {}
      },
      "source": [
        "from torch import optim\n",
        "# define loss\n",
        "criterion = nn.NLLLoss()\n",
        "# define optimizer Q. useful use alternative optimizers for this kind of data?\n",
        "opt = optim.SGD(model.parameters(), lr=0.01)"
      ],
      "execution_count": 0,
      "outputs": []
    },
    {
      "cell_type": "markdown",
      "metadata": {
        "id": "WfPgg3Mpcu55",
        "colab_type": "text"
      },
      "source": [
        "#Train the Network"
      ]
    },
    {
      "cell_type": "code",
      "metadata": {
        "id": "LllWbjWMYmRY",
        "colab_type": "code",
        "outputId": "caca4b3f-a29f-4fa1-8602-e6ac4aeec938",
        "colab": {
          "base_uri": "https://localhost:8080/",
          "height": 1000
        }
      },
      "source": [
        "# times the model sees all entries all training data heare all images are seen 60 times\n",
        "epochs = 60\n",
        "\n",
        "# initialize tracker for minimum validation loss\n",
        "valid_loss_min = np.Inf # set initial \"min\" to infinity\n",
        "\n",
        "#model.train()\n",
        "\n",
        "train_losses, valid_losses = [], []\n",
        "\n",
        "for e in range(epochs):\n",
        "  \n",
        "  train_loss = 0.0\n",
        "  valid_loss = 0.0\n",
        "    \n",
        "    ###################\n",
        "    # train the model #\n",
        "    ###################\n",
        "    \n",
        "  model.train()  \n",
        "  for images, labels in train_loader:\n",
        "    images = images.view(images.shape[0], -1)\n",
        "    \n",
        "    opt.zero_grad()\n",
        "    \n",
        "    output = model.forward(images)\n",
        "    loss = criterion(output, labels)\n",
        "    loss.backward()    \n",
        "    opt.step()\n",
        "    \n",
        "    #accumulate loss from each batch\n",
        "    train_loss += loss.item()*images.size(0)\n",
        "    \n",
        "    ######################    \n",
        "    # validate the model #\n",
        "    ######################\n",
        "  model.eval()     \n",
        "  for images, labels in valid_loader:\n",
        "    \n",
        "    images = images.view(images.shape[0], -1)\n",
        "    \n",
        "    # forward pass: compute predicted outputs by passing inputs to the model\n",
        "    output = model.forward(images)\n",
        "    # calculate the loss\n",
        "    loss = criterion(output, labels)\n",
        "    # update running validation loss \n",
        "    valid_loss += loss.item()*images.size(0)\n",
        "  \n",
        "  # print training/validation statistics \n",
        "  # calculate average loss over an epoch\n",
        "  train_loss = train_loss/len(train_loader.sampler)\n",
        "  valid_loss = valid_loss/len(valid_loader.sampler)\n",
        "  \n",
        "  \n",
        "  train_losses.append(train_loss/len(train_loader.sampler))\n",
        "  valid_losses.append(valid_loss/len(valid_loader.sampler))\n",
        "  \n",
        "  print('Epoch: {} \\tTraining Loss: {:.6f} \\tValidation Loss: {:.6f}'.format(\n",
        "        e+1, \n",
        "        train_loss,\n",
        "        valid_loss\n",
        "        ))\n",
        "  \n",
        "  # save model if validation loss has decreased\n",
        "  if valid_loss <= valid_loss_min and (valid_loss_min - valid_loss) > 0.05:\n",
        "    print('Validation loss decreased ({:.6f} --> {:.6f}).  Saving model ...'.format(\n",
        "    valid_loss_min,\n",
        "    valid_loss))\n",
        "    th.save(model.state_dict(), 'model.pt')\n",
        "    valid_loss_min = valid_loss"
      ],
      "execution_count": 7,
      "outputs": [
        {
          "output_type": "stream",
          "text": [
            "Epoch: 1 \tTraining Loss: 1.314246 \tValidation Loss: 0.600838\n",
            "Validation loss decreased (inf --> 0.600838).  Saving model ...\n",
            "Epoch: 2 \tTraining Loss: 0.547838 \tValidation Loss: 0.404959\n",
            "Validation loss decreased (0.600838 --> 0.404959).  Saving model ...\n",
            "Epoch: 3 \tTraining Loss: 0.433435 \tValidation Loss: 0.328665\n",
            "Validation loss decreased (0.404959 --> 0.328665).  Saving model ...\n",
            "Epoch: 4 \tTraining Loss: 0.375586 \tValidation Loss: 0.292487\n",
            "Epoch: 5 \tTraining Loss: 0.333926 \tValidation Loss: 0.269359\n",
            "Validation loss decreased (0.328665 --> 0.269359).  Saving model ...\n",
            "Epoch: 6 \tTraining Loss: 0.312713 \tValidation Loss: 0.246191\n",
            "Epoch: 7 \tTraining Loss: 0.279591 \tValidation Loss: 0.221821\n",
            "Epoch: 8 \tTraining Loss: 0.263137 \tValidation Loss: 0.199761\n",
            "Validation loss decreased (0.269359 --> 0.199761).  Saving model ...\n",
            "Epoch: 9 \tTraining Loss: 0.243613 \tValidation Loss: 0.182286\n",
            "Epoch: 10 \tTraining Loss: 0.224358 \tValidation Loss: 0.165949\n",
            "Epoch: 11 \tTraining Loss: 0.207228 \tValidation Loss: 0.150846\n",
            "Epoch: 12 \tTraining Loss: 0.190257 \tValidation Loss: 0.146739\n",
            "Validation loss decreased (0.199761 --> 0.146739).  Saving model ...\n",
            "Epoch: 13 \tTraining Loss: 0.176934 \tValidation Loss: 0.138453\n",
            "Epoch: 14 \tTraining Loss: 0.163568 \tValidation Loss: 0.119739\n",
            "Epoch: 15 \tTraining Loss: 0.155820 \tValidation Loss: 0.116023\n",
            "Epoch: 16 \tTraining Loss: 0.142931 \tValidation Loss: 0.105285\n",
            "Epoch: 17 \tTraining Loss: 0.140447 \tValidation Loss: 0.093380\n",
            "Validation loss decreased (0.146739 --> 0.093380).  Saving model ...\n",
            "Epoch: 18 \tTraining Loss: 0.129024 \tValidation Loss: 0.086351\n",
            "Epoch: 19 \tTraining Loss: 0.121070 \tValidation Loss: 0.083397\n",
            "Epoch: 20 \tTraining Loss: 0.116604 \tValidation Loss: 0.086935\n",
            "Epoch: 21 \tTraining Loss: 0.109799 \tValidation Loss: 0.073937\n",
            "Epoch: 22 \tTraining Loss: 0.100799 \tValidation Loss: 0.073287\n",
            "Epoch: 23 \tTraining Loss: 0.100134 \tValidation Loss: 0.061806\n",
            "Epoch: 24 \tTraining Loss: 0.093030 \tValidation Loss: 0.058346\n",
            "Epoch: 25 \tTraining Loss: 0.089956 \tValidation Loss: 0.054081\n",
            "Epoch: 26 \tTraining Loss: 0.082418 \tValidation Loss: 0.050079\n",
            "Epoch: 27 \tTraining Loss: 0.081060 \tValidation Loss: 0.054625\n",
            "Epoch: 28 \tTraining Loss: 0.074638 \tValidation Loss: 0.042927\n",
            "Validation loss decreased (0.093380 --> 0.042927).  Saving model ...\n",
            "Epoch: 29 \tTraining Loss: 0.068132 \tValidation Loss: 0.047354\n",
            "Epoch: 30 \tTraining Loss: 0.069563 \tValidation Loss: 0.036385\n",
            "Epoch: 31 \tTraining Loss: 0.064866 \tValidation Loss: 0.034446\n",
            "Epoch: 32 \tTraining Loss: 0.060746 \tValidation Loss: 0.033788\n",
            "Epoch: 33 \tTraining Loss: 0.060925 \tValidation Loss: 0.030621\n",
            "Epoch: 34 \tTraining Loss: 0.054023 \tValidation Loss: 0.029306\n",
            "Epoch: 35 \tTraining Loss: 0.051797 \tValidation Loss: 0.026420\n",
            "Epoch: 36 \tTraining Loss: 0.051125 \tValidation Loss: 0.026275\n",
            "Epoch: 37 \tTraining Loss: 0.049674 \tValidation Loss: 0.024175\n",
            "Epoch: 38 \tTraining Loss: 0.045975 \tValidation Loss: 0.022792\n",
            "Epoch: 39 \tTraining Loss: 0.046553 \tValidation Loss: 0.022172\n",
            "Epoch: 40 \tTraining Loss: 0.041757 \tValidation Loss: 0.020629\n",
            "Epoch: 41 \tTraining Loss: 0.040061 \tValidation Loss: 0.019240\n",
            "Epoch: 42 \tTraining Loss: 0.038629 \tValidation Loss: 0.018473\n",
            "Epoch: 43 \tTraining Loss: 0.035309 \tValidation Loss: 0.018180\n",
            "Epoch: 44 \tTraining Loss: 0.034649 \tValidation Loss: 0.015227\n",
            "Epoch: 45 \tTraining Loss: 0.034745 \tValidation Loss: 0.015360\n",
            "Epoch: 46 \tTraining Loss: 0.032689 \tValidation Loss: 0.013996\n",
            "Epoch: 47 \tTraining Loss: 0.029761 \tValidation Loss: 0.011750\n",
            "Epoch: 48 \tTraining Loss: 0.032506 \tValidation Loss: 0.013498\n",
            "Epoch: 49 \tTraining Loss: 0.030410 \tValidation Loss: 0.011279\n",
            "Epoch: 50 \tTraining Loss: 0.027289 \tValidation Loss: 0.011522\n",
            "Epoch: 51 \tTraining Loss: 0.028824 \tValidation Loss: 0.009709\n",
            "Epoch: 52 \tTraining Loss: 0.026853 \tValidation Loss: 0.008375\n",
            "Epoch: 53 \tTraining Loss: 0.024316 \tValidation Loss: 0.008937\n",
            "Epoch: 54 \tTraining Loss: 0.024313 \tValidation Loss: 0.007992\n",
            "Epoch: 55 \tTraining Loss: 0.023311 \tValidation Loss: 0.009606\n",
            "Epoch: 56 \tTraining Loss: 0.020728 \tValidation Loss: 0.006577\n",
            "Epoch: 57 \tTraining Loss: 0.021828 \tValidation Loss: 0.007721\n",
            "Epoch: 58 \tTraining Loss: 0.020471 \tValidation Loss: 0.005841\n",
            "Epoch: 59 \tTraining Loss: 0.022426 \tValidation Loss: 0.006590\n",
            "Epoch: 60 \tTraining Loss: 0.021140 \tValidation Loss: 0.010209\n"
          ],
          "name": "stdout"
        }
      ]
    },
    {
      "cell_type": "markdown",
      "metadata": {
        "id": "bz1jKaLRZXj5",
        "colab_type": "text"
      },
      "source": [
        "##Load the Model with the Lowest Validation Loss"
      ]
    },
    {
      "cell_type": "code",
      "metadata": {
        "id": "Ii3636RKZaoo",
        "colab_type": "code",
        "colab": {}
      },
      "source": [
        "model.load_state_dict(th.load('model.pt'))"
      ],
      "execution_count": 0,
      "outputs": []
    },
    {
      "cell_type": "code",
      "metadata": {
        "id": "4SWk-Yb06oXA",
        "colab_type": "code",
        "colab": {}
      },
      "source": [
        "# Copy Udacity's helper file in a cell\n",
        "import matplotlib.pyplot as plt\n",
        "import numpy as np\n",
        "from torch import nn, optim\n",
        "from torch.autograd import Variable\n",
        "\n",
        "\n",
        "def test_network(net, trainloader):\n",
        "\n",
        "    criterion = nn.MSELoss()\n",
        "    optimizer = optim.Adam(net.parameters(), lr=0.001)\n",
        "\n",
        "    dataiter = iter(trainloader)\n",
        "    images, labels = dataiter.next()\n",
        "\n",
        "    # Create Variables for the inputs and targets\n",
        "    inputs = Variable(images)\n",
        "    targets = Variable(images)\n",
        "\n",
        "    # Clear the gradients from all Variables\n",
        "    optimizer.zero_grad()\n",
        "\n",
        "    # Forward pass, then backward pass, then update weights\n",
        "    output = net.forward(inputs)\n",
        "    loss = criterion(output, targets)\n",
        "    loss.backward()\n",
        "    optimizer.step()\n",
        "\n",
        "    return True\n",
        "\n",
        "\n",
        "def imshow(image, ax=None, title=None, normalize=True):\n",
        "    \"\"\"Imshow for Tensor.\"\"\"\n",
        "    if ax is None:\n",
        "        fig, ax = plt.subplots()\n",
        "    image = image.numpy().transpose((1, 2, 0))\n",
        "\n",
        "    if normalize:\n",
        "        mean = np.array([0.485, 0.456, 0.406])\n",
        "        std = np.array([0.229, 0.224, 0.225])\n",
        "        image = std * image + mean\n",
        "        image = np.clip(image, 0, 1)\n",
        "\n",
        "    ax.imshow(image)\n",
        "    ax.spines['top'].set_visible(False)\n",
        "    ax.spines['right'].set_visible(False)\n",
        "    ax.spines['left'].set_visible(False)\n",
        "    ax.spines['bottom'].set_visible(False)\n",
        "    ax.tick_params(axis='both', length=0)\n",
        "    ax.set_xticklabels('')\n",
        "    ax.set_yticklabels('')\n",
        "\n",
        "    return ax\n",
        "\n",
        "\n",
        "def view_recon(img, recon):\n",
        "    ''' Function for displaying an image (as a PyTorch Tensor) and its\n",
        "        reconstruction also a PyTorch Tensor\n",
        "    '''\n",
        "\n",
        "    fig, axes = plt.subplots(ncols=2, sharex=True, sharey=True)\n",
        "    axes[0].imshow(img.numpy().squeeze())\n",
        "    axes[1].imshow(recon.data.numpy().squeeze())\n",
        "    for ax in axes:\n",
        "        ax.axis('off')\n",
        "        ax.set_adjustable('box-forced')\n",
        "\n",
        "def view_classify(img, ps, version=\"MNIST\"):\n",
        "    ''' Function for viewing an image and it's predicted classes.\n",
        "    '''\n",
        "    ps = ps.data.numpy().squeeze()\n",
        "\n",
        "    fig, (ax1, ax2) = plt.subplots(figsize=(8,4), ncols=2)\n",
        "    ax1.imshow(img.resize_(1, 28, 28).numpy().squeeze())\n",
        "    ax1.set_aspect(\"auto\")\n",
        "    \n",
        "    ax2.bar(np.arange(10), ps)\n",
        "    \n",
        "    fig.tight_layout()\n",
        "    ax1.axis('off')\n",
        "    \n",
        "    ax2.set_xticks(np.arange(10))\n",
        "    if version == \"MNIST\":\n",
        "        ax2.set_xticklabels(np.arange(10), color='white')\n",
        "        ax2.tick_params(labelcolor='white')\n",
        "    elif version == \"Fashion\":\n",
        "        ax2.set_xticklabels(['T-shirt/top',\n",
        "                            'Trouser',\n",
        "                            'Pullover',\n",
        "                            'Dress',\n",
        "                            'Coat',\n",
        "                            'Sandal',\n",
        "                            'Shirt',\n",
        "                            'Sneaker',\n",
        "                            'Bag',\n",
        "                            'Ankle Boot'], size='small');\n",
        "    ax2.set_title('Class Probability', color='white')\n",
        "    ax2.set_ylim(0, 1.1)\n",
        "    plt.tight_layout()\n"
      ],
      "execution_count": 0,
      "outputs": []
    },
    {
      "cell_type": "code",
      "metadata": {
        "id": "jnzZTtU063BH",
        "colab_type": "code",
        "outputId": "87690717-4016-4b60-b49e-e52962433c5e",
        "colab": {
          "base_uri": "https://localhost:8080/",
          "height": 297
        }
      },
      "source": [
        "# get an image from test_loader and pass it through model for prediction\n",
        "images, labels = next(iter(test_loader))\n",
        "\n",
        "img = images[0].view(1, 784)\n",
        "# Turn off gradients to speed up this part\n",
        "with th.no_grad():\n",
        "    logps = model.forward(img)\n",
        "\n",
        "# Output of the network are log-probabilities, need to take exponential for probabilities\n",
        "ps = th.exp(logps)\n",
        "view_classify(img.view(1, 28, 28), ps)"
      ],
      "execution_count": 0,
      "outputs": [
        {
          "output_type": "display_data",
          "data": {
            "image/png": "[encoded data removed]",
            "text/plain": [
              "<Figure size 576x288 with 2 Axes>"
            ]
          },
          "metadata": {
            "tags": []
          }
        }
      ]
    },
    {
      "cell_type": "code",
      "metadata": {
        "id": "Sk2AbjXeiOgu",
        "colab_type": "code",
        "outputId": "fc697dc3-d5fc-438f-d703-1f9b53f1232d",
        "colab": {
          "base_uri": "https://localhost:8080/",
          "height": 286
        }
      },
      "source": [
        "plot.plot(train_losses, label='Training loss')\n",
        "plot.plot(valid_losses, label='Validation loss')\n",
        "plot.legend(frameon=False)"
      ],
      "execution_count": 10,
      "outputs": [
        {
          "output_type": "execute_result",
          "data": {
            "text/plain": [
              "<matplotlib.legend.Legend at 0x7f201f6a79e8>"
            ]
          },
          "metadata": {
            "tags": []
          },
          "execution_count": 10
        },
        {
          "output_type": "display_data",
          "data": {
            "image/png": "[encoded data removed]",
            "text/plain": [
              "<Figure size 432x288 with 1 Axes>"
            ]
          },
          "metadata": {
            "tags": []
          }
        }
      ]
    },
    {
      "cell_type": "markdown",
      "metadata": {
        "id": "nQuCr8S1c-o3",
        "colab_type": "text"
      },
      "source": [
        "#Test the Network"
      ]
    },
    {
      "cell_type": "code",
      "metadata": {
        "id": "_X-sZN3AdLBF",
        "colab_type": "code",
        "colab": {}
      },
      "source": [
        "# initialize lists to monitor test loss and accuracy\n",
        "test_loss = 0.0\n",
        "# create lists to hold values for the total classes and correctly predicted classes\n",
        "class_correct = list(0. for i in range(10))\n",
        "class_total = list(0. for i in range(10))\n",
        "\n",
        "model.eval()\n",
        "for images, labels in test_loader:\n",
        "  # flatten images\n",
        "  images = images.view(images.shape[0], -1)\n",
        "  output = model.forward(images)\n",
        "  \n",
        "  loss = criterion(output, labels)\n",
        "  test_loss += loss.item()*images.size(0)\n",
        "  \n",
        "  # convert output probabilities to predicted class\n",
        "  _, preds = th.max(output, 1)\n",
        "  \n",
        "  # compare predictions to true label\n",
        "  correct = np.squeeze(preds.eq(labels.data.view_as(preds)))\n",
        "#   print(correct)\n",
        "  \n",
        "  # calculate test accuracy for each object class\n",
        "  for i in range(len(labels)):\n",
        "    label = labels.data[i]\n",
        "#     print(label)\n",
        "    class_correct[label] += correct[i].item()\n",
        "    class_total[label] += 1\n",
        "    \n",
        "    # calculate and print avg test loss\n",
        "test_loss = test_loss/len(test_loader.sampler)\n",
        "print('Test Loss: {:.6f}\\n'.format(test_loss))\n",
        "\n",
        "for i in range(10):\n",
        "    if class_total[i] > 0:\n",
        "        print('Test Accuracy of %5s: %2d%% (%2d/%2d)' % (\n",
        "            str(i), 100 * class_correct[i] / class_total[i],\n",
        "            np.sum(class_correct[i]), np.sum(class_total[i])))\n",
        "    else:\n",
        "        print('Test Accuracy of %5s: N/A (no training examples)' % (classes[i]))\n",
        "\n",
        "print('\\nTest Accuracy (Overall): %2d%% (%2d/%2d)' % (\n",
        "    100. * np.sum(class_correct) / np.sum(class_total),\n",
        "    np.sum(class_correct), np.sum(class_total)))\n",
        "  "
      ],
      "execution_count": 0,
      "outputs": []
    },
    {
      "cell_type": "markdown",
      "metadata": {
        "id": "tvuIZjbjujoc",
        "colab_type": "text"
      },
      "source": [
        "##Statistics - Training results\n",
        "\n",
        "* 3 sets - 60 Epochs - 2 dropouts - lr=0.01\n",
        "\n",
        "\n",
        "Test Loss: 0.124382\n",
        "\n",
        "--------------------------------------------------------------------------------------------------------\n",
        "\n",
        "Test Accuracy of     0: 98% (966/980)\n",
        "\n",
        "Test Accuracy of     1: 98% (1121/1135)\n",
        "\n",
        "Test Accuracy of     2: 96% (992/1032)\n",
        "\n",
        "Test Accuracy of     3: 95% (965/1010)\n",
        "\n",
        "Test Accuracy of     4: 94% (931/982)\n",
        "\n",
        "Test Accuracy of     5: 95% (852/892)\n",
        "\n",
        "Test Accuracy of     6: 96% (925/958)\n",
        "\n",
        "Test Accuracy of     7: 96% (994/1028)\n",
        "\n",
        "Test Accuracy of     8: 93% (911/974)\n",
        "\n",
        "Test Accuracy of     9: 95% (963/1009)\n",
        "\n",
        "----------------------------------------------------------------------------------------------------\n",
        "\n",
        "Test Accuracy (Overall): 96% (9620/10000)"
      ]
    }
  ]
}