{
  "nbformat": 4,
  "nbformat_minor": 0,
  "metadata": {
    "colab": {
      "name": "Pytorch_MNIST_3Sets_60Epochs_2Dropouts_lr0_01.ipynb",
      "version": "0.3.2",
      "provenance": [],
      "include_colab_link": true
    },
    "kernelspec": {
      "name": "python3",
      "display_name": "Python 3"
    }
  },
  "cells": [
    {
      "cell_type": "markdown",
      "metadata": {
        "id": "view-in-github",
        "colab_type": "text"
      },
      "source": [
        "<a href=\"https://colab.research.google.com/github/SamuelaAnastasi/PytorchMNIST_Models/blob/master/Pytorch_MNIST_3Sets_60Epochs_2Dropouts_lr0_01.ipynb\" target=\"_parent\"><img src=\"https://colab.research.google.com/assets/colab-badge.svg\" alt=\"Open In Colab\"/></a>"
      ]
    },
    {
      "cell_type": "code",
      "metadata": {
        "id": "gJGXBvy4ZkYU",
        "colab_type": "code",
        "colab": {}
      },
      "source": [
        "# import libraries\n",
        "import torch as th\n",
        "import numpy as np\n",
        "from torch.utils.data.sampler import SubsetRandomSampler"
      ],
      "execution_count": 0,
      "outputs": []
    },
    {
      "cell_type": "markdown",
      "metadata": {
        "id": "JrnA8gH9cU0z",
        "colab_type": "text"
      },
      "source": [
        "#Load and Visualize the Data"
      ]
    },
    {
      "cell_type": "code",
      "metadata": {
        "id": "RPJjF1CdcFXg",
        "colab_type": "code",
        "colab": {}
      },
      "source": [
        "from torchvision import datasets\n",
        "import torchvision.transforms as transforms\n",
        "\n",
        "# number of subprocesses to use for data loading\n",
        "num_workers = 0\n",
        "\n",
        "# how many samples for batch to load - Q: Try with different batch size to see effects\n",
        "batch_size = 20\n",
        "\n",
        "# percentage of training set to use as validation\n",
        "valid_size = 0.2\n",
        "\n",
        "# convert data to Torch.FloatTensor\n",
        "transform = transforms.Compose([transforms.ToTensor(),\n",
        "                                transforms.Normalize((0.5,), (0.5,)),\n",
        "                              ])\n",
        "\n",
        "# define train and test datasets - define the root as 'data'\n",
        "train_set = datasets.MNIST(root='data', train=True,  download=True, transform=transform)\n",
        "test_set = datasets.MNIST(root='data', train=False, download=True, transform=transform)\n",
        "\n",
        "# obtain training indices that will be used for validation\n",
        "num_train = len(train_set)\n",
        "indices = list(range(num_train))\n",
        "np.random.shuffle(indices)\n",
        "split = int(np.floor(valid_size * num_train))\n",
        "train_idx, valid_idx = indices[split:], indices[:split]\n",
        "\n",
        "# define samplers for obtaining training and validation batches\n",
        "train_sampler = SubsetRandomSampler(train_idx)\n",
        "valid_sampler = SubsetRandomSampler(valid_idx)\n",
        "\n",
        "# define loaders that load the data\n",
        "train_loader = th.utils.data.DataLoader(train_set, batch_size=batch_size, sampler=valid_sampler, num_workers=num_workers)\n",
        "valid_loader = th.utils.data.DataLoader(train_set, batch_size=batch_size, sampler=valid_sampler, num_workers=num_workers)\n",
        "test_loader = th.utils.data.DataLoader(test_set, batch_size=batch_size, num_workers=num_workers, shuffle=True)"
      ],
      "execution_count": 0,
      "outputs": []
    },
    {
      "cell_type": "code",
      "metadata": {
        "id": "5vKjZQMcskzN",
        "colab_type": "code",
        "colab": {}
      },
      "source": [
        "# visualise the loaded data\n",
        "import matplotlib.pyplot as plot\n",
        "\n",
        "# get one batch of train images\n",
        "dataiter = iter(train_loader)\n",
        "images, labels = dataiter.next()\n",
        "images = images.numpy()\n",
        "\n",
        "# plot images and labels in the batch \n",
        "fig = plot.figure(figsize=(25, 4))\n",
        "\n",
        "for indx in np.arange(20):\n",
        "  ax = fig.add_subplot(2, 20/2, indx+1, xticks=[], yticks=[])\n",
        "  ax.imshow(np.squeeze(images[indx]), cmap='gray') \n",
        "  ax.set_title(str(labels[indx].item()), color='white')\n",
        "  "
      ],
      "execution_count": 0,
      "outputs": []
    },
    {
      "cell_type": "markdown",
      "metadata": {
        "id": "ahN7hXXgcZZI",
        "colab_type": "text"
      },
      "source": [
        "#Define the Network  Architecture"
      ]
    },
    {
      "cell_type": "code",
      "metadata": {
        "id": "YTzYpCO_43aR",
        "colab_type": "code",
        "outputId": "15b409d0-7b89-4b98-9f0c-0e5e5f50b937",
        "colab": {
          "base_uri": "https://localhost:8080/",
          "height": 118
        }
      },
      "source": [
        "from torch import nn\n",
        "import torch.nn.functional as F\n",
        "\n",
        "# define model network clas\n",
        "class Network(nn.Module):\n",
        "  \n",
        "  # include all layers on __init__()\n",
        "  def __init__(self):\n",
        "    # call super __init_()\n",
        "    super(Network, self).__init__()\n",
        "    \n",
        "    # 3 fully connected Layer hidden and output\n",
        "    self.fc1 = nn.Linear(28*28, 512)\n",
        "    self.fc2 = nn.Linear(512, 128)\n",
        "    self.fc3 = nn.Linear(128, 10)\n",
        "    \n",
        "    # dropout to prevent overfitting \n",
        "    self.dropout = nn.Dropout(0.2)\n",
        "    \n",
        "    # define forward behavior of network - that is how the input x \n",
        "    #is going to be passed to layers and transformed\n",
        "    \n",
        "  def forward(self, x):\n",
        "    # flatten input\n",
        "#       x = x.view(-1, 28 * 28)\n",
        "      \n",
        "      # pass input to the layers\n",
        "      x = F.relu(self.fc1(x))\n",
        "      x = self.dropout(x)\n",
        "      x = F.relu(self.fc2(x))\n",
        "      x = self.dropout(x)\n",
        "      x = self.fc3(x)\n",
        "      x = F.log_softmax(x, dim=1)\n",
        "      \n",
        "      return x      \n",
        "      \n",
        "model = Network()\n",
        "print(model)"
      ],
      "execution_count": 2,
      "outputs": [
        {
          "output_type": "stream",
          "text": [
            "Network(\n",
            "  (fc1): Linear(in_features=784, out_features=512, bias=True)\n",
            "  (fc2): Linear(in_features=512, out_features=128, bias=True)\n",
            "  (fc3): Linear(in_features=128, out_features=10, bias=True)\n",
            "  (dropout): Dropout(p=0.2)\n",
            ")\n"
          ],
          "name": "stdout"
        }
      ]
    },
    {
      "cell_type": "code",
      "metadata": {
        "id": "-oCETSyqLnfq",
        "colab_type": "code",
        "colab": {}
      },
      "source": [
        "print(model.fc1.weight)\n",
        "print(model.fc1.bias)"
      ],
      "execution_count": 0,
      "outputs": []
    },
    {
      "cell_type": "code",
      "metadata": {
        "id": "gRqJPM97V8Tm",
        "colab_type": "code",
        "colab": {}
      },
      "source": [
        "from torch import optim\n",
        "# define loss\n",
        "criterion = nn.NLLLoss()\n",
        "# define optimizer Q. useful use alternative optimizers for this kind of data?\n",
        "opt = optim.SGD(model.parameters(), lr=0.01)"
      ],
      "execution_count": 0,
      "outputs": []
    },
    {
      "cell_type": "markdown",
      "metadata": {
        "id": "WfPgg3Mpcu55",
        "colab_type": "text"
      },
      "source": [
        "#Train the Network"
      ]
    },
    {
      "cell_type": "code",
      "metadata": {
        "id": "LllWbjWMYmRY",
        "colab_type": "code",
        "outputId": "caca4b3f-a29f-4fa1-8602-e6ac4aeec938",
        "colab": {
          "base_uri": "https://localhost:8080/",
          "height": 1000
        }
      },
      "source": [
        "# times the model sees all entries all training data heare all images are seen 60 times\n",
        "epochs = 60\n",
        "\n",
        "# initialize tracker for minimum validation loss\n",
        "valid_loss_min = np.Inf # set initial \"min\" to infinity\n",
        "\n",
        "#model.train()\n",
        "\n",
        "train_losses, valid_losses = [], []\n",
        "\n",
        "for e in range(epochs):\n",
        "  \n",
        "  train_loss = 0.0\n",
        "  valid_loss = 0.0\n",
        "    \n",
        "    ###################\n",
        "    # train the model #\n",
        "    ###################\n",
        "    \n",
        "  model.train()  \n",
        "  for images, labels in train_loader:\n",
        "    images = images.view(images.shape[0], -1)\n",
        "    \n",
        "    opt.zero_grad()\n",
        "    \n",
        "    output = model.forward(images)\n",
        "    loss = criterion(output, labels)\n",
        "    loss.backward()    \n",
        "    opt.step()\n",
        "    \n",
        "    #accumulate loss from each batch\n",
        "    train_loss += loss.item()*images.size(0)\n",
        "    \n",
        "    ######################    \n",
        "    # validate the model #\n",
        "    ######################\n",
        "  model.eval()     \n",
        "  for images, labels in valid_loader:\n",
        "    \n",
        "    images = images.view(images.shape[0], -1)\n",
        "    \n",
        "    # forward pass: compute predicted outputs by passing inputs to the model\n",
        "    output = model.forward(images)\n",
        "    # calculate the loss\n",
        "    loss = criterion(output, labels)\n",
        "    # update running validation loss \n",
        "    valid_loss += loss.item()*images.size(0)\n",
        "  \n",
        "  # print training/validation statistics \n",
        "  # calculate average loss over an epoch\n",
        "  train_loss = train_loss/len(train_loader.sampler)\n",
        "  valid_loss = valid_loss/len(valid_loader.sampler)\n",
        "  \n",
        "  \n",
        "  train_losses.append(train_loss/len(train_loader.sampler))\n",
        "  valid_losses.append(valid_loss/len(valid_loader.sampler))\n",
        "  \n",
        "  print('Epoch: {} \\tTraining Loss: {:.6f} \\tValidation Loss: {:.6f}'.format(\n",
        "        e+1, \n",
        "        train_loss,\n",
        "        valid_loss\n",
        "        ))\n",
        "  \n",
        "  # save model if validation loss has decreased\n",
        "  if valid_loss <= valid_loss_min and (valid_loss_min - valid_loss) > 0.05:\n",
        "    print('Validation loss decreased ({:.6f} --> {:.6f}).  Saving model ...'.format(\n",
        "    valid_loss_min,\n",
        "    valid_loss))\n",
        "    th.save(model.state_dict(), 'model.pt')\n",
        "    valid_loss_min = valid_loss"
      ],
      "execution_count": 7,
      "outputs": [
        {
          "output_type": "stream",
          "text": [
            "Epoch: 1 \tTraining Loss: 1.314246 \tValidation Loss: 0.600838\n",
            "Validation loss decreased (inf --> 0.600838).  Saving model ...\n",
            "Epoch: 2 \tTraining Loss: 0.547838 \tValidation Loss: 0.404959\n",
            "Validation loss decreased (0.600838 --> 0.404959).  Saving model ...\n",
            "Epoch: 3 \tTraining Loss: 0.433435 \tValidation Loss: 0.328665\n",
            "Validation loss decreased (0.404959 --> 0.328665).  Saving model ...\n",
            "Epoch: 4 \tTraining Loss: 0.375586 \tValidation Loss: 0.292487\n",
            "Epoch: 5 \tTraining Loss: 0.333926 \tValidation Loss: 0.269359\n",
            "Validation loss decreased (0.328665 --> 0.269359).  Saving model ...\n",
            "Epoch: 6 \tTraining Loss: 0.312713 \tValidation Loss: 0.246191\n",
            "Epoch: 7 \tTraining Loss: 0.279591 \tValidation Loss: 0.221821\n",
            "Epoch: 8 \tTraining Loss: 0.263137 \tValidation Loss: 0.199761\n",
            "Validation loss decreased (0.269359 --> 0.199761).  Saving model ...\n",
            "Epoch: 9 \tTraining Loss: 0.243613 \tValidation Loss: 0.182286\n",
            "Epoch: 10 \tTraining Loss: 0.224358 \tValidation Loss: 0.165949\n",
            "Epoch: 11 \tTraining Loss: 0.207228 \tValidation Loss: 0.150846\n",
            "Epoch: 12 \tTraining Loss: 0.190257 \tValidation Loss: 0.146739\n",
            "Validation loss decreased (0.199761 --> 0.146739).  Saving model ...\n",
            "Epoch: 13 \tTraining Loss: 0.176934 \tValidation Loss: 0.138453\n",
            "Epoch: 14 \tTraining Loss: 0.163568 \tValidation Loss: 0.119739\n",
            "Epoch: 15 \tTraining Loss: 0.155820 \tValidation Loss: 0.116023\n",
            "Epoch: 16 \tTraining Loss: 0.142931 \tValidation Loss: 0.105285\n",
            "Epoch: 17 \tTraining Loss: 0.140447 \tValidation Loss: 0.093380\n",
            "Validation loss decreased (0.146739 --> 0.093380).  Saving model ...\n",
            "Epoch: 18 \tTraining Loss: 0.129024 \tValidation Loss: 0.086351\n",
            "Epoch: 19 \tTraining Loss: 0.121070 \tValidation Loss: 0.083397\n",
            "Epoch: 20 \tTraining Loss: 0.116604 \tValidation Loss: 0.086935\n",
            "Epoch: 21 \tTraining Loss: 0.109799 \tValidation Loss: 0.073937\n",
            "Epoch: 22 \tTraining Loss: 0.100799 \tValidation Loss: 0.073287\n",
            "Epoch: 23 \tTraining Loss: 0.100134 \tValidation Loss: 0.061806\n",
            "Epoch: 24 \tTraining Loss: 0.093030 \tValidation Loss: 0.058346\n",
            "Epoch: 25 \tTraining Loss: 0.089956 \tValidation Loss: 0.054081\n",
            "Epoch: 26 \tTraining Loss: 0.082418 \tValidation Loss: 0.050079\n",
            "Epoch: 27 \tTraining Loss: 0.081060 \tValidation Loss: 0.054625\n",
            "Epoch: 28 \tTraining Loss: 0.074638 \tValidation Loss: 0.042927\n",
            "Validation loss decreased (0.093380 --> 0.042927).  Saving model ...\n",
            "Epoch: 29 \tTraining Loss: 0.068132 \tValidation Loss: 0.047354\n",
            "Epoch: 30 \tTraining Loss: 0.069563 \tValidation Loss: 0.036385\n",
            "Epoch: 31 \tTraining Loss: 0.064866 \tValidation Loss: 0.034446\n",
            "Epoch: 32 \tTraining Loss: 0.060746 \tValidation Loss: 0.033788\n",
            "Epoch: 33 \tTraining Loss: 0.060925 \tValidation Loss: 0.030621\n",
            "Epoch: 34 \tTraining Loss: 0.054023 \tValidation Loss: 0.029306\n",
            "Epoch: 35 \tTraining Loss: 0.051797 \tValidation Loss: 0.026420\n",
            "Epoch: 36 \tTraining Loss: 0.051125 \tValidation Loss: 0.026275\n",
            "Epoch: 37 \tTraining Loss: 0.049674 \tValidation Loss: 0.024175\n",
            "Epoch: 38 \tTraining Loss: 0.045975 \tValidation Loss: 0.022792\n",
            "Epoch: 39 \tTraining Loss: 0.046553 \tValidation Loss: 0.022172\n",
            "Epoch: 40 \tTraining Loss: 0.041757 \tValidation Loss: 0.020629\n",
            "Epoch: 41 \tTraining Loss: 0.040061 \tValidation Loss: 0.019240\n",
            "Epoch: 42 \tTraining Loss: 0.038629 \tValidation Loss: 0.018473\n",
            "Epoch: 43 \tTraining Loss: 0.035309 \tValidation Loss: 0.018180\n",
            "Epoch: 44 \tTraining Loss: 0.034649 \tValidation Loss: 0.015227\n",
            "Epoch: 45 \tTraining Loss: 0.034745 \tValidation Loss: 0.015360\n",
            "Epoch: 46 \tTraining Loss: 0.032689 \tValidation Loss: 0.013996\n",
            "Epoch: 47 \tTraining Loss: 0.029761 \tValidation Loss: 0.011750\n",
            "Epoch: 48 \tTraining Loss: 0.032506 \tValidation Loss: 0.013498\n",
            "Epoch: 49 \tTraining Loss: 0.030410 \tValidation Loss: 0.011279\n",
            "Epoch: 50 \tTraining Loss: 0.027289 \tValidation Loss: 0.011522\n",
            "Epoch: 51 \tTraining Loss: 0.028824 \tValidation Loss: 0.009709\n",
            "Epoch: 52 \tTraining Loss: 0.026853 \tValidation Loss: 0.008375\n",
            "Epoch: 53 \tTraining Loss: 0.024316 \tValidation Loss: 0.008937\n",
            "Epoch: 54 \tTraining Loss: 0.024313 \tValidation Loss: 0.007992\n",
            "Epoch: 55 \tTraining Loss: 0.023311 \tValidation Loss: 0.009606\n",
            "Epoch: 56 \tTraining Loss: 0.020728 \tValidation Loss: 0.006577\n",
            "Epoch: 57 \tTraining Loss: 0.021828 \tValidation Loss: 0.007721\n",
            "Epoch: 58 \tTraining Loss: 0.020471 \tValidation Loss: 0.005841\n",
            "Epoch: 59 \tTraining Loss: 0.022426 \tValidation Loss: 0.006590\n",
            "Epoch: 60 \tTraining Loss: 0.021140 \tValidation Loss: 0.010209\n"
          ],
          "name": "stdout"
        }
      ]
    },
    {
      "cell_type": "markdown",
      "metadata": {
        "id": "bz1jKaLRZXj5",
        "colab_type": "text"
      },
      "source": [
        "##Load the Model with the Lowest Validation Loss"
      ]
    },
    {
      "cell_type": "code",
      "metadata": {
        "id": "Ii3636RKZaoo",
        "colab_type": "code",
        "colab": {}
      },
      "source": [
        "model.load_state_dict(th.load('model.pt'))"
      ],
      "execution_count": 0,
      "outputs": []
    },
    {
      "cell_type": "code",
      "metadata": {
        "id": "4SWk-Yb06oXA",
        "colab_type": "code",
        "colab": {}
      },
      "source": [
        "# Copy Udacity's helper file in a cell\n",
        "import matplotlib.pyplot as plt\n",
        "import numpy as np\n",
        "from torch import nn, optim\n",
        "from torch.autograd import Variable\n",
        "\n",
        "\n",
        "def test_network(net, trainloader):\n",
        "\n",
        "    criterion = nn.MSELoss()\n",
        "    optimizer = optim.Adam(net.parameters(), lr=0.001)\n",
        "\n",
        "    dataiter = iter(trainloader)\n",
        "    images, labels = dataiter.next()\n",
        "\n",
        "    # Create Variables for the inputs and targets\n",
        "    inputs = Variable(images)\n",
        "    targets = Variable(images)\n",
        "\n",
        "    # Clear the gradients from all Variables\n",
        "    optimizer.zero_grad()\n",
        "\n",
        "    # Forward pass, then backward pass, then update weights\n",
        "    output = net.forward(inputs)\n",
        "    loss = criterion(output, targets)\n",
        "    loss.backward()\n",
        "    optimizer.step()\n",
        "\n",
        "    return True\n",
        "\n",
        "\n",
        "def imshow(image, ax=None, title=None, normalize=True):\n",
        "    \"\"\"Imshow for Tensor.\"\"\"\n",
        "    if ax is None:\n",
        "        fig, ax = plt.subplots()\n",
        "    image = image.numpy().transpose((1, 2, 0))\n",
        "\n",
        "    if normalize:\n",
        "        mean = np.array([0.485, 0.456, 0.406])\n",
        "        std = np.array([0.229, 0.224, 0.225])\n",
        "        image = std * image + mean\n",
        "        image = np.clip(image, 0, 1)\n",
        "\n",
        "    ax.imshow(image)\n",
        "    ax.spines['top'].set_visible(False)\n",
        "    ax.spines['right'].set_visible(False)\n",
        "    ax.spines['left'].set_visible(False)\n",
        "    ax.spines['bottom'].set_visible(False)\n",
        "    ax.tick_params(axis='both', length=0)\n",
        "    ax.set_xticklabels('')\n",
        "    ax.set_yticklabels('')\n",
        "\n",
        "    return ax\n",
        "\n",
        "\n",
        "def view_recon(img, recon):\n",
        "    ''' Function for displaying an image (as a PyTorch Tensor) and its\n",
        "        reconstruction also a PyTorch Tensor\n",
        "    '''\n",
        "\n",
        "    fig, axes = plt.subplots(ncols=2, sharex=True, sharey=True)\n",
        "    axes[0].imshow(img.numpy().squeeze())\n",
        "    axes[1].imshow(recon.data.numpy().squeeze())\n",
        "    for ax in axes:\n",
        "        ax.axis('off')\n",
        "        ax.set_adjustable('box-forced')\n",
        "\n",
        "def view_classify(img, ps, version=\"MNIST\"):\n",
        "    ''' Function for viewing an image and it's predicted classes.\n",
        "    '''\n",
        "    ps = ps.data.numpy().squeeze()\n",
        "\n",
        "    fig, (ax1, ax2) = plt.subplots(figsize=(8,4), ncols=2)\n",
        "    ax1.imshow(img.resize_(1, 28, 28).numpy().squeeze())\n",
        "    ax1.set_aspect(\"auto\")\n",
        "    \n",
        "    ax2.bar(np.arange(10), ps)\n",
        "    \n",
        "    fig.tight_layout()\n",
        "    ax1.axis('off')\n",
        "    \n",
        "    ax2.set_xticks(np.arange(10))\n",
        "    if version == \"MNIST\":\n",
        "        ax2.set_xticklabels(np.arange(10), color='white')\n",
        "        ax2.tick_params(labelcolor='white')\n",
        "    elif version == \"Fashion\":\n",
        "        ax2.set_xticklabels(['T-shirt/top',\n",
        "                            'Trouser',\n",
        "                            'Pullover',\n",
        "                            'Dress',\n",
        "                            'Coat',\n",
        "                            'Sandal',\n",
        "                            'Shirt',\n",
        "                            'Sneaker',\n",
        "                            'Bag',\n",
        "                            'Ankle Boot'], size='small');\n",
        "    ax2.set_title('Class Probability', color='white')\n",
        "    ax2.set_ylim(0, 1.1)\n",
        "    plt.tight_layout()\n"
      ],
      "execution_count": 0,
      "outputs": []
    },
    {
      "cell_type": "code",
      "metadata": {
        "id": "jnzZTtU063BH",
        "colab_type": "code",
        "outputId": "87690717-4016-4b60-b49e-e52962433c5e",
        "colab": {
          "base_uri": "https://localhost:8080/",
          "height": 297
        }
      },
      "source": [
        "# get an image from test_loader and pass it through model for prediction\n",
        "images, labels = next(iter(test_loader))\n",
        "\n",
        "img = images[0].view(1, 784)\n",
        "# Turn off gradients to speed up this part\n",
        "with th.no_grad():\n",
        "    logps = model.forward(img)\n",
        "\n",
        "# Output of the network are log-probabilities, need to take exponential for probabilities\n",
        "ps = th.exp(logps)\n",
        "view_classify(img.view(1, 28, 28), ps)"
      ],
      "execution_count": 0,
      "outputs": [
        {
          "output_type": "display_data",
          "data": {
            "image/png": "[encoded data removed]",
            "text/plain": [
              "<Figure size 576x288 with 2 Axes>"
            ]
          },
          "metadata": {
            "tags": []
          }
        }
      ]
    },
    {
      "cell_type": "code",
      "metadata": {
        "id": "Sk2AbjXeiOgu",
        "colab_type": "code",
        "outputId": "fc697dc3-d5fc-438f-d703-1f9b53f1232d",
        "colab": {
          "base_uri": "https://localhost:8080/",
          "height": 286
        }
      },
      "source": [
        "plot.plot(train_losses, label='Training loss')\n",
        "plot.plot(valid_losses, label='Validation loss')\n",
        "plot.legend(frameon=False)"
      ],
      "execution_count": 10,
      "outputs": [
        {
          "output_type": "execute_result",
          "data": {
            "text/plain": [
              "<matplotlib.legend.Legend at 0x7f201f6a79e8>"
            ]
          },
          "metadata": {
            "tags": []
          },
          "execution_count": 10
        },
        {
          "output_type": "display_data",
          "data": {
            "image/png": "[encoded data removed]",
            "text/plain": [
              "<Figure size 432x288 with 1 Axes>"
            ]
          },
          "metadata": {
            "tags": []
          }
        }
      ]
    },
    {
      "cell_type": "markdown",
      "metadata": {
        "id": "nQuCr8S1c-o3",
        "colab_type": "text"
      },
      "source": [
        "#Test the Network"
      ]
    },
    {
      "cell_type": "code",
      "metadata": {
        "id": "_X-sZN3AdLBF",
        "colab_type": "code",
        "colab": {}
      },
      "source": [
        "# initialize lists to monitor test loss and accuracy\n",
        "test_loss = 0.0\n",
        "# create lists to hold values for the total classes and correctly predicted classes\n",
        "class_correct = list(0. for i in range(10))\n",
        "class_total = list(0. for i in range(10))\n",
        "\n",
        "model.eval()\n",
        "for images, labels in test_loader:\n",
        "  # flatten images\n",
        "  images = images.view(images.shape[0], -1)\n",
        "  output = model.forward(images)\n",
        "  \n",
        "  loss = criterion(output, labels)\n",
        "  test_loss += loss.item()*images.size(0)\n",
        "  \n",
        "  # convert output probabilities to predicted class\n",
        "  _, preds = th.max(output, 1)\n",
        "  \n",
        "  # compare predictions to true label\n",
        "  correct = np.squeeze(preds.eq(labels.data.view_as(preds)))\n",
        "#   print(correct)\n",
        "  \n",
        "  # calculate test accuracy for each object class\n",
        "  for i in range(len(labels)):\n",
        "    label = labels.data[i]\n",
        "#     print(label)\n",
        "    class_correct[label] += correct[i].item()\n",
        "    class_total[label] += 1\n",
        "    \n",
        "    # calculate and print avg test loss\n",
        "test_loss = test_loss/len(test_loader.sampler)\n",
        "print('Test Loss: {:.6f}\\n'.format(test_loss))\n",
        "\n",
        "for i in range(10):\n",
        "    if class_total[i] > 0:\n",
        "        print('Test Accuracy of %5s: %2d%% (%2d/%2d)' % (\n",
        "            str(i), 100 * class_correct[i] / class_total[i],\n",
        "            np.sum(class_correct[i]), np.sum(class_total[i])))\n",
        "    else:\n",
        "        print('Test Accuracy of %5s: N/A (no training examples)' % (classes[i]))\n",
        "\n",
        "print('\\nTest Accuracy (Overall): %2d%% (%2d/%2d)' % (\n",
        "    100. * np.sum(class_correct) / np.sum(class_total),\n",
        "    np.sum(class_correct), np.sum(class_total)))\n",
        "  "
      ],
      "execution_count": 0,
      "outputs": []
    },
    {
      "cell_type": "markdown",
      "metadata": {
        "id": "tvuIZjbjujoc",
        "colab_type": "text"
      },
      "source": [
        "##Statistics - Training results\n",
        "\n",
        "* 3 sets - 60 Epochs - 2 dropouts - lr=0.01\n",
        "\n",
        "\n",
        "Test Loss: 0.124382\n",
        "\n",
        "--------------------------------------------------------------------------------------------------------\n",
        "\n",
        "Test Accuracy of     0: 98% (966/980)\n",
        "\n",
        "Test Accuracy of     1: 98% (1121/1135)\n",
        "\n",
        "Test Accuracy of     2: 96% (992/1032)\n",
        "\n",
        "Test Accuracy of     3: 95% (965/1010)\n",
        "\n",
        "Test Accuracy of     4: 94% (931/982)\n",
        "\n",
        "Test Accuracy of     5: 95% (852/892)\n",
        "\n",
        "Test Accuracy of     6: 96% (925/958)\n",
        "\n",
        "Test Accuracy of     7: 96% (994/1028)\n",
        "\n",
        "Test Accuracy of     8: 93% (911/974)\n",
        "\n",
        "Test Accuracy of     9: 95% (963/1009)\n",
        "\n",
        "----------------------------------------------------------------------------------------------------\n",
        "\n",
        "Test Accuracy (Overall): 96% (9620/10000)"
      ]
    }
  ]
}